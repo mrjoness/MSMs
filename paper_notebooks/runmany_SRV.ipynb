{
 "cells": [
  {
   "cell_type": "code",
   "execution_count": 1,
   "metadata": {},
   "outputs": [],
   "source": [
    "import numpy as np, os, sys, subprocess\n",
    "import matplotlib.pyplot as plt"
   ]
  },
  {
   "cell_type": "code",
   "execution_count": 2,
   "metadata": {},
   "outputs": [],
   "source": [
    "# write sbatch text given hyper parameters \n",
    "def write_sbatch(name, batch_size, lag_time, n_sm, n_epochs, n_feat, n_plot, n_traj, reversible, trim_start, trim_end, prefix):\n",
    "\n",
    "    #populate run_line with hyperparams\n",
    "    run_line =  ('python run_single_to_pkl.py' +\n",
    "                ' --name ' + name + \n",
    "                ' --prefix ' + prefix + \n",
    "                ' --batch_size ' + str(batch_size) + \n",
    "                ' --lag_time ' + str(lag_time) +\n",
    "                ' --n_sm ' + str(n_sm) +\n",
    "                ' --n_epochs ' + str(n_epochs) +\n",
    "                ' --n_feat ' + str(n_feat) +\n",
    "                ' --n_plot ' + str(n_plot) +\n",
    "                ' --n_traj ' + str(n_traj) +\n",
    "                ' --reversible ' + str(reversible) + \n",
    "                ' --trim_start ' + str(trim_start) +\n",
    "                ' --trim_end ' + str(trim_end))\n",
    "\n",
    "    sbatch_text = '''#!/bin/bash\n",
    "\n",
    "#SBATCH --mail-type=ALL\n",
    "#SBATCH --mail-user=mikejones@uchicago.edu\n",
    "\n",
    "#SBATCH --job-name=''' + prefix + '''\n",
    "\n",
    "#SBATCH --output=''' + prefix + '''.out\n",
    "##SBATCH --partition=gm4-pmext\n",
    "#SBATCH --partition=broadwl\n",
    "#SBATCH --nodes=1 # SET NUM NODES \n",
    "#SBATCH --ntasks-per-node=1 # SETS NUM MPI RANKS\n",
    "#SBATCH --cpus-per-task=1 # SET NUM THREADS (cores)\n",
    "#SBATCH --mem=10GB # REQUEST MEMORY\n",
    "##SBATCH --constraint=gold-6248\n",
    "##SBATCH --qos=gm4-cpu\n",
    "\n",
    "'''\n",
    " \n",
    "    sbatch_final = sbatch_text + run_line\n",
    "    return sbatch_final"
   ]
  },
  {
   "cell_type": "code",
   "execution_count": 3,
   "metadata": {},
   "outputs": [],
   "source": [
    "## write and run sbatch\n",
    "\n",
    "def run_sbatch(name, prefix, sbatch_final):\n",
    "    filename = prefix + name.replace('npy', 'sbatch')\n",
    "    file = open(filename,\"w+\")\n",
    "\n",
    "    file.write(sbatch_final)\n",
    "    file.close()\n",
    "\n",
    "    subprocess.call(['sbatch', filename])\n",
    "    print ('ran ' + filename)\n"
   ]
  },
  {
   "cell_type": "code",
   "execution_count": 4,
   "metadata": {},
   "outputs": [
    {
     "name": "stdout",
     "output_type": "stream",
     "text": [
      "ran trim_400_lag_32_sm_6_ep_30comb_cut4_training_AT-all_567-10000-190.sbatch\n",
      "ran trim_1000_lag_32_sm_6_ep_30comb_cut4_training_AT-all_567-10000-190.sbatch\n",
      "ran trim_10000_lag_32_sm_6_ep_30comb_cut4_training_AT-all_567-10000-190.sbatch\n",
      "ran trim_400_lag_32_sm_6_ep_30comb_cut4_training_GC-end_350-10000-190.sbatch\n",
      "ran trim_1000_lag_32_sm_6_ep_30comb_cut4_training_GC-end_350-10000-190.sbatch\n",
      "ran trim_10000_lag_32_sm_6_ep_30comb_cut4_training_GC-end_350-10000-190.sbatch\n",
      "ran trim_400_lag_32_sm_6_ep_30comb_cut4_training_GC-mid_230-10000-190.sbatch\n",
      "ran trim_1000_lag_32_sm_6_ep_30comb_cut4_training_GC-mid_230-10000-190.sbatch\n",
      "ran trim_10000_lag_32_sm_6_ep_30comb_cut4_training_GC-mid_230-10000-190.sbatch\n",
      "ran trim_400_lag_32_sm_6_ep_30comb_cut4_training_GC-core_166-10000-190.sbatch\n",
      "ran trim_1000_lag_32_sm_6_ep_30comb_cut4_training_GC-core_166-10000-190.sbatch\n",
      "ran trim_10000_lag_32_sm_6_ep_30comb_cut4_training_GC-core_166-10000-190.sbatch\n"
     ]
    }
   ],
   "source": [
    "## set hyperparameters\n",
    "cut4_list = ['comb_cut4_training_AT-all_567-10000-190.npy',\n",
    "            'comb_cut4_training_GC-end_350-10000-190.npy',\n",
    "            'comb_cut4_training_GC-mid_230-10000-190.npy',\n",
    "            'comb_cut4_training_GC-core_166-10000-190.npy']\n",
    "\n",
    "lowT_cut4_list = ['mdtraj-pwdr-4e7_cut4_AT-all_293K-346-10000-190.npy',\n",
    "                 'mdtraj-pwdr-4e7_cut4_GC-end_300K-202-10000-190.npy',\n",
    "                 'mdtraj-pwdr-4e7_cut4_GC-mid_309K-127-10000-190.npy',\n",
    "                 'mdtraj-pwdr-4e7_cut4_GC-core_310K-80-10000-190.npy']\n",
    "          \n",
    "Equ_list = ['mdtraj-pwdr-allseq_15ts_15e+09run_AT-all_308K-10-150001-190.npy',\n",
    "             'mdtraj-pwdr-allseq_15ts_15e+09run_GC-end_315K-10-150001-190.npy',\n",
    "             'mdtraj-pwdr-allseq_15ts_15e+09run_GC-mid_324K-10-150001-190.npy'\n",
    "             'mdtraj-pwdr-allseq_15ts_15e+09run_GC-core_325K-10-150001-190.npy',\n",
    "            ]\n",
    "\n",
    "#n_epochs_list = [(i +1)*10 for i in range(9)]\n",
    "n_epochs_list = [30]\n",
    "\n",
    "name_list = cut4_list\n",
    "batch_size = 50000    ## training batch size\n",
    "lag_time = 32         ## lag time\n",
    "n_sm = 6              ## number of SRV slow modes\n",
    "n_feat = 190          ## number of features of per frames      \n",
    "n_plot = 5000         ## number of data points to save for plotting\n",
    "n_traj = 150        ## subset of trajectories to train on (for consistency between sequences)\n",
    "reversible = False    ## determines SRV vs SnRV\n",
    "\n",
    "trim_size_list = [400, 1000, 10000]   ## trim size around center event\n",
    "full_size = 10000                     ## total number of frames per traj\n",
    "\n",
    "for name in name_list:\n",
    "    for n_epochs in n_epochs_list:\n",
    "        for trim_size in trim_size_list:\n",
    "         \n",
    "            trim_start = full_size//2 - trim_size//2\n",
    "            trim_end = full_size//2 + trim_size//2\n",
    "            \n",
    "            prefix = 'trim_{}_lag_{}_sm_{}_ep_{}'.format(trim_size, lag_time, n_sm, n_epochs)\n",
    "            sbatch_final = write_sbatch(name, batch_size, lag_time, n_sm, n_epochs, n_feat, n_plot, n_traj, reversible, trim_start, trim_end,  prefix)\n",
    "            run_sbatch(name, prefix, sbatch_final)"
   ]
  },
  {
   "cell_type": "code",
   "execution_count": 6,
   "metadata": {},
   "outputs": [
    {
     "name": "stdout",
     "output_type": "stream",
     "text": [
      "(array([169]),)\n",
      "177477.47747747749\n"
     ]
    },
    {
     "data": {
      "image/png": "[encoded data removed]",
      "text/plain": [
       "<Figure size 432x288 with 1 Axes>"
      ]
     },
     "metadata": {
      "needs_background": "light"
     },
     "output_type": "display_data"
    }
   ],
   "source": [
    "## test plots\n",
    "\n",
    "x = np.linspace(10000, 1000000, 1000)\n",
    "\n",
    "t = 10000\n",
    "p = 0.95\n",
    "p_l = 75000\n",
    "a = 2\n",
    "\n",
    "def efficiency(x):\n",
    "    \n",
    "    eff = ((1 - t/x)*(1-p**(x/p_l)))/(a*x)\n",
    "    return eff\n",
    "    \n",
    "plt.plot(x, efficiency(x))\n",
    "\n",
    "print(np.where(efficiency(x) == np.amax(efficiency(x))))\n",
    "print(x[169])"
   ]
  },
  {
   "cell_type": "code",
   "execution_count": null,
   "metadata": {},
   "outputs": [],
   "source": []
  }
 ],
 "metadata": {
  "kernelspec": {
   "display_name": "Python 3",
   "language": "python",
   "name": "python3"
  },
  "language_info": {
   "codemirror_mode": {
    "name": "ipython",
    "version": 3
   },
   "file_extension": ".py",
   "mimetype": "text/x-python",
   "name": "python",
   "nbconvert_exporter": "python",
   "pygments_lexer": "ipython3",
   "version": "3.7.3"
  }
 },
 "nbformat": 4,
 "nbformat_minor": 4
}
